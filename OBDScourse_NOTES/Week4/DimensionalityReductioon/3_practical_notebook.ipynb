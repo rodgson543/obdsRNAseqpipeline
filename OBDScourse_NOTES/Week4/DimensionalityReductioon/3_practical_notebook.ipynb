{
 "cells": [
  {
   "cell_type": "code",
   "execution_count": 1,
   "metadata": {
    "slideshow": {
     "slide_type": "slide"
    }
   },
   "outputs": [],
   "source": [
    "import numpy as np\n",
    "import matplotlib.pyplot as plt; plt.ion()\n",
    "\n",
    "from scipy.io import mmread\n",
    "from sklearn.decomposition import PCA\n",
    "from umap import UMAP\n",
    "from hdbscan import HDBSCAN"
   ]
  },
  {
   "cell_type": "markdown",
   "metadata": {
    "slideshow": {
     "slide_type": "slide"
    }
   },
   "source": [
    "A helper function to visualize the distribution of dataset values at the various stages of preprocessing:"
   ]
  },
  {
   "cell_type": "code",
   "execution_count": 8,
   "metadata": {
    "slideshow": {
     "slide_type": "fragment"
    }
   },
   "outputs": [],
   "source": [
    "def summarize(X):\n",
    "    print(\"Dimensions: \", X.shape)\n",
    "\n",
    "    # compute some simple metrics to get a feel for the distribution of values\n",
    "    print(\"Min    : \", np.min(X))\n",
    "    print(\"Mean   : \", np.mean(X))\n",
    "    print(\"Median : \", np.median(X))\n",
    "    print(\"99.9%  : \", np.percentile(X.ravel(), 99.9))\n",
    "    print(\"Max    : \", np.max(X))\n",
    "\n",
    "    # plot distribution\n",
    "    fig, ax = plt.subplots(1,1)\n",
    "    ax.hist(X.ravel(), bins=100)\n",
    "    ax.set_xlabel('Counts')\n",
    "    ax.set_ylabel('Frequency')\n",
    "    plt.show()"
   ]
  },
  {
   "cell_type": "markdown",
   "metadata": {
    "slideshow": {
     "slide_type": "slide"
    }
   },
   "source": [
    "# Load the data:"
   ]
  },
  {
   "cell_type": "code",
   "execution_count": 4,
   "metadata": {
    "slideshow": {
     "slide_type": "fragment"
    }
   },
   "outputs": [
    {
     "name": "stdout",
     "output_type": "stream",
     "text": [
      "Dimensions:  (9128, 27998)\n",
      "Min    :  0\n",
      "Mean   :  0.2623772026347944\n",
      "Median :  0.0\n",
      "99.9%  :  27.0\n",
      "Max    :  6916\n"
     ]
    },
    {
     "data": {
      "image/png": "[encoded data removed]",
      "text/plain": [
       "<Figure size 432x288 with 1 Axes>"
      ]
     },
     "metadata": {
      "needs_background": "light"
     },
     "output_type": "display_data"
    }
   ],
   "source": [
    "file_path = '/home/paul/wdir/transcriptomics/data/neuron_10x_data/neuron_9k_filtered_gene_bc_matrices/filtered_gene_bc_matrices/mm10/matrix.mtx'\n",
    "X = mmread(file_path)\n",
    "X = np.array(X.todense().transpose())\n",
    "summarize(X)"
   ]
  },
  {
   "cell_type": "markdown",
   "metadata": {
    "slideshow": {
     "slide_type": "slide"
    }
   },
   "source": [
    "# Preprocess the data (a.k.a quality control)"
   ]
  },
  {
   "cell_type": "markdown",
   "metadata": {},
   "source": [
    "# Transform the data to make it more normally distributed"
   ]
  },
  {
   "cell_type": "markdown",
   "metadata": {
    "slideshow": {
     "slide_type": "slide"
    }
   },
   "source": [
    "# Dimensionality reduction using PCA"
   ]
  },
  {
   "cell_type": "markdown",
   "metadata": {
    "slideshow": {
     "slide_type": "slide"
    }
   },
   "source": [
    "# Dimensionality reduction using UMAP"
   ]
  },
  {
   "cell_type": "markdown",
   "metadata": {
    "slideshow": {
     "slide_type": "slide"
    }
   },
   "source": [
    "# Clustering using HDBSCAN"
   ]
  }
 ],
 "metadata": {
  "kernelspec": {
   "display_name": "Python 3",
   "language": "python",
   "name": "python3"
  },
  "language_info": {
   "codemirror_mode": {
    "name": "ipython",
    "version": 3
   },
   "file_extension": ".py",
   "mimetype": "text/x-python",
   "name": "python",
   "nbconvert_exporter": "python",
   "pygments_lexer": "ipython3",
   "version": "3.6.8"
  }
 },
 "nbformat": 4,
 "nbformat_minor": 2
}
